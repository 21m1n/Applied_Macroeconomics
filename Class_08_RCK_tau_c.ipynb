{
 "cells": [
  {
   "cell_type": "code",
   "execution_count": null,
   "metadata": {},
   "outputs": [],
   "source": [
    "%matplotlib inline\n",
    "\n",
    "import numpy as np\n",
    "import matplotlib.pyplot as plt\n",
    "\n",
    "import scipy.optimize as opt\n",
    "\n",
    "from AppliedMacroPlots import *"
   ]
  },
  {
   "cell_type": "code",
   "execution_count": null,
   "metadata": {},
   "outputs": [],
   "source": [
    "# Calibration follows Ljungqvist and Sargent (2012), p. 395\n",
    "\n",
    "α = 0.33\n",
    "δ = 0.2\n",
    "β = 0.95\n",
    "g = 0.2\n",
    "σ = 2    # LS call it γ"
   ]
  },
  {
   "cell_type": "code",
   "execution_count": null,
   "metadata": {},
   "outputs": [],
   "source": [
    "def f(k):\n",
    "    return k**α\n",
    "\n",
    "def df_dk(k):\n",
    "    return α * k**(α-1)"
   ]
  },
  {
   "cell_type": "code",
   "execution_count": null,
   "metadata": {},
   "outputs": [],
   "source": [
    "def RCK_ss(variables, τ_c=0):\n",
    "    \n",
    "    (k, c) = variables\n",
    "    \n",
    "    y = f(k)\n",
    "    r = df_dk(k) - δ\n",
    "    \n",
    "    EE = β*(1+r) - 1                 # Euler equation\n",
    "    RC = f(k) + (1-δ)*k - g - c - k  # Resource constraint\n",
    "    \n",
    "    return [EE, RC]"
   ]
  },
  {
   "cell_type": "code",
   "execution_count": null,
   "metadata": {},
   "outputs": [],
   "source": [
    "τ_c_0 = 0\n",
    "τ_c_1 = 0.2\n",
    "\n",
    "results = opt.fsolve(RCK_ss, (1.5, 0.8), args=(τ_c_0))\n",
    "print('Initial steady state \\t=', results)\n",
    "k_ss_0 = results[0]\n",
    "c_ss_0 = results[1]\n",
    "\n",
    "results = opt.fsolve(RCK_ss, (1.5, 0.8), args=(τ_c_1))\n",
    "print('Final steady state \\t=', results)\n",
    "k_ss_1 = results[0]\n",
    "c_ss_1 = results[1]"
   ]
  },
  {
   "cell_type": "code",
   "execution_count": null,
   "metadata": {},
   "outputs": [],
   "source": [
    "def Resource_Constraint(k, c, τ_c):\n",
    "    \n",
    "    k_n = f(k) + (1-δ)*k - g - c #(1+τ_c)*c\n",
    "    \n",
    "    return k_n\n",
    "\n",
    "def Interest_Rate(k):\n",
    "    return df_dk(k) - δ\n",
    "\n",
    "def Euler_Equation(k, c, τ_c, τ_c_n):\n",
    "    \n",
    "    k_n = Resource_Constraint(k, c, τ_c)\n",
    "    \n",
    "    if k_n > 0:\n",
    "        r_n = Interest_Rate(k_n)\n",
    "        c_n = ( (1+τ_c)/(1+τ_c_n) * β * (1+r_n) )**(1/σ) * c\n",
    "    else:\n",
    "        c_n = 0\n",
    "        \n",
    "    return c_n"
   ]
  },
  {
   "cell_type": "code",
   "execution_count": null,
   "metadata": {},
   "outputs": [],
   "source": [
    "# Forward equations and convergence criterion\n",
    "\n",
    "def Path(c_0, k_0, Tτ=20, T=50):\n",
    "    \n",
    "    T += 1\n",
    "    \n",
    "    k_t = np.zeros(T)\n",
    "    c_t = np.zeros(T)\n",
    "    τ_c_t = np.zeros(T)\n",
    "    \n",
    "    τ_c_t[:Tτ] = τ_c_0\n",
    "    τ_c_t[Tτ:] = τ_c_1\n",
    "    \n",
    "    k_t[0] = k_0\n",
    "    c_t[0] = c_0\n",
    "    \n",
    "    for t in range(T-1):\n",
    "        k_t[t+1] = Resource_Constraint(k_t[t], c_t[t], τ_c_t[t])\n",
    "        if k_t[t+1] > 0:\n",
    "            c_t[t+1] = Euler_Equation(k_t[t], c_t[t], τ_c_t[t], τ_c_t[t+1])\n",
    "        else:\n",
    "            k_t[t+1] = 0\n",
    "            c_t[t+1] = 0\n",
    "            \n",
    "    return k_t, c_t\n",
    "\n",
    "def Path_crit(c_0, k_0, Tτ=20, T=50):\n",
    "    \n",
    "    k_t, c_t = Path(c_0, k_0, Tτ, T)\n",
    "#     k_star, c_star = SteadyState(params)\n",
    "    \n",
    "    ss_diff = np.sqrt((k_t-k_ss_1)**2 + (c_t-c_ss_1)**2)\n",
    "    \n",
    "    return np.min(ss_diff) + ss_diff[-1]"
   ]
  },
  {
   "cell_type": "code",
   "execution_count": null,
   "metadata": {},
   "outputs": [],
   "source": [
    "# Find the function minimum, starting from an initial guess\n",
    "result = opt.minimize(Path_crit, c_ss_0, args=(k_ss_0), method='Powell') # 'Nelder-Mead'\n",
    "print(result)\n",
    "\n",
    "c_0 = result.x"
   ]
  },
  {
   "cell_type": "code",
   "execution_count": null,
   "metadata": {},
   "outputs": [],
   "source": [
    "k_t, c_t = Path(c_0, k_ss_0)\n",
    "\n",
    "plt.plot(k_t, c_t, 'ko-')\n",
    "plt.plot(k_ss_1, c_ss_1, 'ro')\n",
    "plt.show()"
   ]
  },
  {
   "cell_type": "code",
   "execution_count": null,
   "metadata": {},
   "outputs": [],
   "source": [
    "plt.plot(k_t, lw=2)\n",
    "plt.hlines(k_ss_1, 0, 50, linestyles='--', lw=1)\n",
    "plt.show()\n",
    "\n",
    "plt.plot(c_t, lw=2)\n",
    "plt.hlines(c_ss_1, 0, 50, linestyles='--', lw=1)\n",
    "plt.show()\n",
    "\n",
    "plt.plot(100*c_t/c_ss_0, lw=2)\n",
    "plt.show()"
   ]
  },
  {
   "cell_type": "markdown",
   "metadata": {},
   "source": [
    "![Effects of VAT tax hikes](img/RCK/figure-one.jpg)\n",
    "\n",
    "Source: [Danninger (2014) What Japan’s economy needs now](https://www.weforum.org/agenda/2014/08/japan-consumption-tax-structural-reform-abenomics/)"
   ]
  },
  {
   "cell_type": "code",
   "execution_count": null,
   "metadata": {},
   "outputs": [],
   "source": []
  }
 ],
 "metadata": {
  "kernelspec": {
   "display_name": "Python 3",
   "language": "python",
   "name": "python3"
  },
  "language_info": {
   "codemirror_mode": {
    "name": "ipython",
    "version": 3
   },
   "file_extension": ".py",
   "mimetype": "text/x-python",
   "name": "python",
   "nbconvert_exporter": "python",
   "pygments_lexer": "ipython3",
   "version": "3.7.0"
  }
 },
 "nbformat": 4,
 "nbformat_minor": 2
}
