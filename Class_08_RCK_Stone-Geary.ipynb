{
 "cells": [
  {
   "cell_type": "code",
   "execution_count": null,
   "metadata": {},
   "outputs": [],
   "source": [
    "%matplotlib inline\n",
    "\n",
    "import numpy as np\n",
    "import matplotlib.pyplot as plt\n",
    "\n",
    "import scipy.optimize as opt\n",
    "\n",
    "from AppliedMacroPlots import *"
   ]
  },
  {
   "cell_type": "code",
   "execution_count": null,
   "metadata": {},
   "outputs": [],
   "source": [
    "# Parameter values\n",
    "\n",
    "α = 0.33\n",
    "δ = 0.1\n",
    "n = 0.01\n",
    "g = 0\n",
    "σ = 2\n",
    "β = 0.96\n",
    "\n",
    "c_min = 0.49\n",
    "# c_min = 0"
   ]
  },
  {
   "cell_type": "code",
   "execution_count": null,
   "metadata": {},
   "outputs": [],
   "source": [
    "# Define needed functions\n",
    "\n",
    "def ProductionFunction(k):\n",
    "    return k**α\n",
    "\n",
    "def InterestRate(k):\n",
    "    return α*k**(α-1) - δ\n",
    "    \n",
    "def SteadyState():\n",
    "    \n",
    "    r_star = (1+n) * (1+g)**σ / β - 1\n",
    "    k_star = (α/(r_star+δ))**(1/(1-α))\n",
    "    c_star = ProductionFunction(k_star) - (δ+n+g+n*g)*k_star\n",
    "    \n",
    "    return k_star, c_star\n",
    "\n",
    "def ResourceConstraint(k, c):\n",
    "    \n",
    "    return (ProductionFunction(k) + (1-δ)*k - c)/((1+n)*(1+g))\n",
    "\n",
    "def EulerEquation(k, c):\n",
    "    \n",
    "    k_next = ResourceConstraint(k, c)\n",
    "    \n",
    "    if k_next > 0:\n",
    "        r = InterestRate(k_next)\n",
    "        c_next = (β*(1+r)/(1+n))**(1/σ) * (c-c_min) / (1+g) + c_min\n",
    "        return c_next\n",
    "    else:\n",
    "        return 0"
   ]
  },
  {
   "cell_type": "code",
   "execution_count": null,
   "metadata": {},
   "outputs": [],
   "source": [
    "# Forward equations and convergence criterion\n",
    "\n",
    "def Path(c_0, k_0, T=100):\n",
    "    \n",
    "    T += 1\n",
    "    \n",
    "    k_t = np.zeros(T)\n",
    "    c_t = np.zeros(T)\n",
    "    \n",
    "    k_t[0] = k_0\n",
    "    c_t[0] = c_0\n",
    "    \n",
    "    for t in range(T-1):\n",
    "        k_t[t+1] = ResourceConstraint(k_t[t], c_t[t])\n",
    "        if k_t[t+1] > 0:\n",
    "            c_t[t+1] = EulerEquation(k_t[t], c_t[t])\n",
    "        else:\n",
    "            k_t[t+1] = 0\n",
    "            c_t[t+1] = 0\n",
    "            \n",
    "    return k_t, c_t\n",
    "\n",
    "def Path_crit(c_0, k_0, T=100):\n",
    "    \n",
    "    k_t, c_t = Path(c_0, k_0, T)\n",
    "    k_star, c_star = SteadyState()\n",
    "    \n",
    "    ss_diff = np.sqrt((k_t-k_star)**2 + (c_t-c_star)**2)\n",
    "    \n",
    "    return np.min(ss_diff) + ss_diff[-1]"
   ]
  },
  {
   "cell_type": "code",
   "execution_count": null,
   "metadata": {},
   "outputs": [],
   "source": [
    "# Steady state\n",
    "print(SteadyState())\n",
    "k_star, c_star = SteadyState()"
   ]
  },
  {
   "cell_type": "code",
   "execution_count": null,
   "metadata": {},
   "outputs": [],
   "source": [
    "k_0 = k_star / 20"
   ]
  },
  {
   "cell_type": "code",
   "execution_count": null,
   "metadata": {},
   "outputs": [],
   "source": [
    "# Find the function minimum, starting from an initial guess\n",
    "result = opt.minimize(Path_crit, 0.5, args=(k_0, 100), method='Nelder-Mead')\n",
    "print(result)\n",
    "\n",
    "c_0 = result.x"
   ]
  },
  {
   "cell_type": "code",
   "execution_count": null,
   "metadata": {},
   "outputs": [],
   "source": [
    "k_t, c_t = Path(c_0, k_0, 100)\n",
    "\n",
    "y_t = ProductionFunction(k_t)\n",
    "\n",
    "s_t = 1 - c_t/y_t\n",
    "\n",
    "g_y_t = 100*(y_t[1:]/y_t[:-1]-1)"
   ]
  },
  {
   "cell_type": "code",
   "execution_count": null,
   "metadata": {},
   "outputs": [],
   "source": [
    "plt.plot(k_t, lw=2)\n",
    "plt.show()\n",
    "\n",
    "plt.plot(c_t, lw=2)\n",
    "plt.show()\n",
    "\n",
    "plt.plot(s_t, lw=2)\n",
    "plt.show()\n",
    "\n",
    "plt.plot(g_y_t, lw=2)\n",
    "plt.show()"
   ]
  },
  {
   "cell_type": "code",
   "execution_count": null,
   "metadata": {},
   "outputs": [],
   "source": [
    "plt.scatter(np.log(y_t[:-1]), g_y_t)\n",
    "plt.show()"
   ]
  },
  {
   "cell_type": "code",
   "execution_count": null,
   "metadata": {},
   "outputs": [],
   "source": []
  }
 ],
 "metadata": {
  "kernelspec": {
   "display_name": "Python 3",
   "language": "python",
   "name": "python3"
  },
  "language_info": {
   "codemirror_mode": {
    "name": "ipython",
    "version": 3
   },
   "file_extension": ".py",
   "mimetype": "text/x-python",
   "name": "python",
   "nbconvert_exporter": "python",
   "pygments_lexer": "ipython3",
   "version": "3.7.0"
  }
 },
 "nbformat": 4,
 "nbformat_minor": 2
}
